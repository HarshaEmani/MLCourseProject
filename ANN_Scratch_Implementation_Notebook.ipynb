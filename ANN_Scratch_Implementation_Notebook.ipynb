{
 "cells": [
  {
   "cell_type": "markdown",
   "metadata": {},
   "source": [
    "# Title: Artificial Neural Network Implementation from Scratch\n",
    "\n",
    "The below implementation for Artificial Neural Network is a Brute Force implementation for binary classification of data into 0 or 1 based on the features of count n.This algorithm would work well for binary classification, but not multi-class classification because a lot of code for loss function and activation is hard coded to suitthe task.\n",
    "Task: Implementation of an Artificial Neural Network for programming project assignment for Machine Learning and Data Mining course by Dr. Huajie Zhang atUniversity of New Brunswick.\n",
    "\n"
   ]
  },
  {
   "cell_type": "markdown",
   "metadata": {},
   "source": [
    "# About the Dataset\n",
    "\n",
    "This is the dataset that was provided with the assignment:\n",
    "https://archive.ics.uci.edu/dataset/17/breast+cancer+wisconsin+diagnostic"
   ]
  },
  {
   "cell_type": "markdown",
   "source": [
    "# Environment\n",
    "\n",
    "Programming Language: Python 3.12.0\n",
    "\n",
    "IDE: PyCharm Professional 23.1\n",
    "\n",
    "Libraries Used: Numpy, Pandas, UCIMLRepo, SKLearn, Math, Matplotlib"
   ],
   "metadata": {
    "collapsed": false
   }
  },
  {
   "cell_type": "markdown",
   "metadata": {},
   "source": [
    "# Imports\n",
    "\n",
    "The below code is to import different libraries and modules to build an artificial neural network. Since the ANN is being built from scratch, too many libraries are notneeded."
   ]
  },
  {
   "cell_type": "code",
   "execution_count": 1,
   "metadata": {
    "ExecuteTime": {
     "end_time": "2024-12-06T19:04:42.987984500Z",
     "start_time": "2024-12-06T19:04:42.756834900Z"
    }
   },
   "outputs": [],
   "source": [
    "import numpy as np # Standard library for data science\n",
    "import pandas as pd # Standard library for data science\n",
    "from ucimlrepo import fetch_ucirepo # To fetch the breast cancer data\n",
    "\n",
    "# For standardizing features and encoding categorical labels to 0 or 1\n",
    "from sklearn.preprocessing import StandardScaler, LabelEncoder\n",
    "\n",
    "# Split the input/output data to train and test data.\n",
    "from sklearn.model_selection import train_test_split\n",
    "\n",
    "# To check the model for accuracy\n",
    "from sklearn.metrics import accuracy_score\n",
    "import math\n",
    "\n",
    "# For any standard math operations\n",
    "import matplotlib.pyplot as plt\n",
    "\n",
    "# To plot any graphs\n",
    "import seaborn as sns"
   ]
  },
  {
   "cell_type": "markdown",
   "metadata": {},
   "source": [
    "# Magic\n",
    "\n",
    "Below module is the crux of this whole ANN implementation. This is where all the magic is happening.\n",
    "\n",
    "Weights, Bias, Activation, Forward Propagation, Cost, Loss, Derivatives, Learning Rate, Backward Propagation. Repeat (IYKYK).\n",
    "\n",
    "In this code, the activation function is sigmoid and loss function is mean squared error.\n",
    "\n",
    "Why: Multiple experiements with relu, softmax etc. didn't achieve good results. Same for loss functions - categorical cross entropy and sparse categorical crossentropy were used for initial experiments. After a lot of research, trial and error, sigmoid and MSE work well for basic binary classification task with an ANNimplemented from scratch."
   ]
  },
  {
   "cell_type": "code",
   "execution_count": 113,
   "metadata": {},
   "outputs": [],
   "source": [
    "# Base Neural Network class which is used to build, train and predict values for the model.\n",
    "\n",
    "class NeuralNet:\n",
    "    def __init__(self, X: np.ndarray, y: np.ndarray, layer_sizes, alpha):\n",
    "        self.X = X\n",
    "        self.y = y\n",
    "        self.alpha = alpha\n",
    "        self.layer_sizes = layer_sizes\n",
    "        self.L = len(layer_sizes) - 1  # Number of layers (excluding input layer)\n",
    "\n",
    "        # Initialize weights and biases for each layer\n",
    "        self.W = {}\n",
    "        self.b = {}\n",
    "        for l in range(1, self.L + 1):\n",
    "            self.W[str(l)] = np.random.randn(\n",
    "                layer_sizes[l], layer_sizes[l - 1]\n",
    "            ) * math.sqrt(2 / layer_sizes[l - 1])\n",
    "            self.b[str(l)] = np.zeros((layer_sizes[l], 1))\n",
    "\n",
    "        # Cache for intermediate values in forward pass\n",
    "        self.cache = {}\n",
    "\n",
    "    @staticmethod\n",
    "    def sigmoid(arr):\n",
    "        # Sigmoid activation function.\n",
    "        return 1 / (1 + np.exp(-arr))\n",
    "\n",
    "    @staticmethod\n",
    "    def sigmoid_derivative(arr):\n",
    "        # Derivative of the sigmoid function.\n",
    "        return arr * (1 - arr)\n",
    "\n",
    "    @staticmethod\n",
    "    def relu(x):\n",
    "        return np.maximum(x, 0)\n",
    "\n",
    "    @staticmethod\n",
    "    def relu_derivative(x):\n",
    "        return np.heaviside(x, 0)\n",
    "\n",
    "    def forward(self, X):\n",
    "        # Forward propagation through all layers.\n",
    "        A = X\n",
    "        self.cache[\"A0\"] = A  # Store the input layer activation\n",
    "        for l in range(1, self.L + 1):\n",
    "            Z = self.W[str(l)] @ A + self.b[str(l)]\n",
    "            A = self.sigmoid(Z)\n",
    "            self.cache[f\"A{l}\"] = A  # Cache activation\n",
    "        return A\n",
    "\n",
    "    def predict(self, X):\n",
    "        return self.forward(X)\n",
    "\n",
    "    def compute_cost(self, y_hat, y):\n",
    "        # Calculate mean squared error as cost.\n",
    "        m = y.shape[1]\n",
    "        return np.sum((y_hat - y) ** 2) / (2 * m)\n",
    "\n",
    "    def backward(self, y_hat):\n",
    "        # Backward propagation to compute gradients for weights and biases.\n",
    "        m = self.X.shape[1]\n",
    "        grads = {}\n",
    "        dA = (\n",
    "            y_hat - self.y\n",
    "        ) / m  # Initial gradient based on cost function (mean squared error)\n",
    "\n",
    "        for l in reversed(range(1, self.L + 1)):\n",
    "            dZ = dA * self.sigmoid_derivative(self.cache[f\"A{l}\"])  # Element-wise gradient\n",
    "            grads[f\"dW{l}\"] = dZ @ self.cache[f\"A{l - 1}\"].T\n",
    "            grads[f\"db{l}\"] = np.sum(dZ, axis=1, keepdims=True)\n",
    "            if l > 1:  # Calculate dA for the previous layer if not at the input layer\n",
    "                dA = self.W[str(l)].T @ dZ\n",
    "\n",
    "        return grads\n",
    "\n",
    "    def update_parameters(self, grads):\n",
    "        # Update weights and biases using gradients.\n",
    "        for l in range(1, self.L + 1):\n",
    "            self.W[str(l)] -= self.alpha * grads[f\"dW{l}\"]\n",
    "            self.b[str(l)] -= self.alpha * grads[f\"db{l}\"]\n",
    "\n",
    "    def train(self, epochs=1000):\n",
    "        # Train the network for a set number of epochs.\n",
    "        for epoch in range(epochs):\n",
    "            y_hat = self.forward(self.X)\n",
    "            cost = self.compute_cost(y_hat, self.y)\n",
    "            grads = self.backward(y_hat)\n",
    "            self.update_parameters(grads)\n",
    "            if epoch % 100 == 0:\n",
    "                print(f\"Epoch {epoch}, Cost: {cost}\")\n",
    "\n",
    "    def predict(self, X):\n",
    "        # Predict output for given input data.\n",
    "        return self.forward(X)\n",
    "\n",
    "    def accuracy(self, y_hat, y):\n",
    "        # Compute accuracy as percentage of correct predictions (rounded).\n",
    "        predictions = np.round(y_hat)  # Rounding since outputs are continuous\n",
    "        accuracy = np.mean(predictions == y) * 100\n",
    "        return accuracy\n"
   ]
  },
  {
   "cell_type": "markdown",
   "metadata": {},
   "source": [
    "# Data Fetching and Preprocessing\n",
    "\n",
    "This model was specifically developed to classify the diagnostic data of images for breast cancer cells to classify as 'B' or 'M'. More details about what they meancan be found in the dataset page. There wasn't much preprocessing needed for the data as there were no missing data or outliers as mentioned in the datasetpage. This helped in just focusing on standardization and label encoding of data and preparing data for training the ANN."
   ]
  },
  {
   "cell_type": "code",
   "execution_count": 74,
   "metadata": {},
   "outputs": [
    {
     "data": {
      "text/plain": [
       "((30, 426), (1, 426), (30, 143), (1, 143))"
      ]
     },
     "execution_count": 74,
     "metadata": {},
     "output_type": "execute_result"
    }
   ],
   "source": [
    "# fetch dataset\n",
    "breast_cancer_wisconsin_diagnostic = fetch_ucirepo(id=17)\n",
    "\n",
    "# data (as pandas dataframes)\n",
    "X = breast_cancer_wisconsin_diagnostic.data.features\n",
    "y = breast_cancer_wisconsin_diagnostic.data.targets\n",
    "\n",
    "\n",
    "# To scale and standardize X\n",
    "scaler = StandardScaler()\n",
    "\n",
    "# To encode the labels of y\n",
    "encoder = LabelEncoder()\n",
    "\n",
    "# Scaled\n",
    "X_scaled = scaler.fit_transform(X)\n",
    "\n",
    "# Reshaped to a 1D array to suppress a warning from LabelEncoder\n",
    "y = np.array(y).reshape(-1)\n",
    "\n",
    "# Encoded\n",
    "y = encoder.fit_transform(y)\n",
    "\n",
    "# Reshaped back to a 2D array after encoding\n",
    "y = np.array(y).reshape(-1, 1)\n",
    "\n",
    "# Split X to X_train, X_test and y to y_train and y_test\n",
    "X_train, X_test, y_train, y_test = train_test_split(X_scaled, y, test_size=0.25, shuffle=True)\n",
    "\n",
    "X_train = X_train.T  # Transpose to shape (30, 426)\n",
    "y_train = y_train.T  # Transpose to shape (1, 426)\n",
    "X_test = X_test.T  # Transpose to shape (30, 143)\n",
    "y_test = y_test.T  # Transpose to shape (1, 143)\n",
    "\n",
    "X_train.shape, y_train.shape, X_test.shape, y_test.shape"
   ]
  },
  {
   "cell_type": "markdown",
   "metadata": {},
   "source": [
    "# Training\n",
    "\n",
    "layer_sizes specifies the number of layers and number of neurons each layer uses. The length of layer_sizes is the total number of layers we use and the size ofeach layer is the number of neurons in that layer.\n",
    "\n",
    "For example: layer_sizes=[30, 100, 10, 1] means that there are a total of 4 layers, including 1 input layer, 2 hidden layers and 1 output layer.\n",
    "\n",
    "30 indicates that there are 30 neurons in the input layer, 100 in the first hidden layer and 10 in the second. Only one neuron in output layer for predicting the labelof y.\n",
    "\n",
    "The model was trained for different epochs to see how well it performs as the number of iterations increases. After a lot of experimentation, 0.01 learning rateworked best for most cases."
   ]
  },
  {
   "cell_type": "code",
   "execution_count": 87,
   "metadata": {},
   "outputs": [
    {
     "name": "stdout",
     "output_type": "stream",
     "text": [
      "Epoch 0, Cost: 0.10748675356041129\n",
      "Epoch 0, Cost: 0.13500955681811105\n",
      "Epoch 0, Cost: 0.16520182945418146\n",
      "Epoch 100, Cost: 0.13164190711656504\n",
      "Epoch 200, Cost: 0.1136566206853964\n",
      "Epoch 300, Cost: 0.10449604037406054\n",
      "Epoch 400, Cost: 0.09908297619631976\n",
      "Epoch 500, Cost: 0.09518814194142751\n",
      "Epoch 600, Cost: 0.09192551531552982\n",
      "Epoch 700, Cost: 0.08894355618921909\n",
      "Epoch 800, Cost: 0.08610219986037088\n",
      "Epoch 900, Cost: 0.08334607427253138\n",
      "Epoch 0, Cost: 0.12655828347740633\n",
      "Epoch 100, Cost: 0.12313207979330536\n",
      "Epoch 200, Cost: 0.11980470256009032\n",
      "Epoch 300, Cost: 0.11659264872490793\n",
      "Epoch 400, Cost: 0.11349197488791535\n",
      "Epoch 500, Cost: 0.11048709468981692\n",
      "Epoch 600, Cost: 0.10756106712812577\n",
      "Epoch 700, Cost: 0.1047026862587927\n",
      "Epoch 800, Cost: 0.10190824867340849\n",
      "Epoch 900, Cost: 0.09917924277985331\n",
      "Epoch 1000, Cost: 0.09651887308077226\n",
      "Epoch 1100, Cost: 0.09392960354606815\n",
      "Epoch 1200, Cost: 0.09141223881073576\n",
      "Epoch 1300, Cost: 0.08896603605214659\n",
      "Epoch 1400, Cost: 0.08658921526047243\n",
      "Epoch 1500, Cost: 0.08427949178755734\n",
      "Epoch 1600, Cost: 0.08203448888707104\n",
      "Epoch 1700, Cost: 0.07985200639818692\n",
      "Epoch 1800, Cost: 0.07773016477069306\n",
      "Epoch 1900, Cost: 0.07566745476047897\n",
      "Epoch 2000, Cost: 0.07366272293327836\n",
      "Epoch 2100, Cost: 0.07171511879087349\n",
      "Epoch 2200, Cost: 0.0698240235264828\n",
      "Epoch 2300, Cost: 0.06798897452410106\n",
      "Epoch 2400, Cost: 0.0662095945746489\n",
      "Epoch 2500, Cost: 0.06448553076687634\n",
      "Epoch 2600, Cost: 0.06281640515658728\n",
      "Epoch 2700, Cost: 0.061201777461731346\n",
      "Epoch 2800, Cost: 0.059641118939551666\n",
      "Epoch 2900, Cost: 0.05813379604697922\n",
      "Epoch 3000, Cost: 0.05667906227911918\n",
      "Epoch 3100, Cost: 0.05527605658421578\n",
      "Epoch 3200, Cost: 0.05392380687201378\n",
      "Epoch 3300, Cost: 0.052621237305124004\n",
      "Epoch 3400, Cost: 0.0513671782531634\n",
      "Epoch 3500, Cost: 0.05016037797639942\n",
      "Epoch 3600, Cost: 0.04899951527872625\n",
      "Epoch 3700, Cost: 0.04788321252435647\n",
      "Epoch 3800, Cost: 0.04681004854730247\n",
      "Epoch 3900, Cost: 0.04577857109802249\n",
      "Epoch 4000, Cost: 0.044787308568847384\n",
      "Epoch 4100, Cost: 0.04383478082068234\n",
      "Epoch 4200, Cost: 0.04291950899978109\n",
      "Epoch 4300, Cost: 0.04204002428686404\n",
      "Epoch 4400, Cost: 0.041194875563155195\n",
      "Epoch 4500, Cost: 0.04038263601057993\n",
      "Epoch 4600, Cost: 0.039601908687813235\n",
      "Epoch 4700, Cost: 0.03885133114138796\n",
      "Epoch 4800, Cost: 0.03812957912283337\n",
      "Epoch 4900, Cost: 0.037435369489869745\n",
      "Epoch 0, Cost: 0.16842987771201606\n",
      "Epoch 100, Cost: 0.13931682626769068\n",
      "Epoch 200, Cost: 0.12140727257969167\n",
      "Epoch 300, Cost: 0.11129096306119472\n",
      "Epoch 400, Cost: 0.10476968929760862\n",
      "Epoch 500, Cost: 0.09973500325598098\n",
      "Epoch 600, Cost: 0.09535289908380572\n",
      "Epoch 700, Cost: 0.09131712161250709\n",
      "Epoch 800, Cost: 0.08751901862527828\n",
      "Epoch 900, Cost: 0.08392061607709805\n",
      "Epoch 1000, Cost: 0.08050804354238468\n",
      "Epoch 1100, Cost: 0.07727508055907926\n",
      "Epoch 1200, Cost: 0.07421751519463089\n",
      "Epoch 1300, Cost: 0.07133119692163585\n",
      "Epoch 1400, Cost: 0.0686113355547606\n",
      "Epoch 1500, Cost: 0.06605227097740468\n",
      "Epoch 1600, Cost: 0.06364747190699203\n",
      "Epoch 1700, Cost: 0.061389666809208994\n",
      "Epoch 1800, Cost: 0.05927104533685874\n",
      "Epoch 1900, Cost: 0.05728348289997516\n",
      "Epoch 2000, Cost: 0.05541875457140698\n",
      "Epoch 2100, Cost: 0.053668718252723645\n",
      "Epoch 2200, Cost: 0.052025458527799016\n",
      "Epoch 2300, Cost: 0.050481390683010365\n",
      "Epoch 2400, Cost: 0.049029329061443486\n",
      "Epoch 2500, Cost: 0.047662526007125165\n",
      "Epoch 2600, Cost: 0.046374688041504804\n",
      "Epoch 2700, Cost: 0.04515997535309131\n",
      "Epoch 2800, Cost: 0.04401298970327612\n",
      "Epoch 2900, Cost: 0.04292875478230747\n",
      "Epoch 3000, Cost: 0.04190269206165185\n",
      "Epoch 3100, Cost: 0.04093059435583665\n",
      "Epoch 3200, Cost: 0.0400085986441766\n",
      "Epoch 3300, Cost: 0.0391331591973791\n",
      "Epoch 3400, Cost: 0.03830102168099173\n",
      "Epoch 3500, Cost: 0.037509198639834596\n",
      "Epoch 3600, Cost: 0.036754946580123085\n",
      "Epoch 3700, Cost: 0.0360357447381832\n",
      "Epoch 3800, Cost: 0.03534927554007583\n",
      "Epoch 3900, Cost: 0.03469340670256708\n",
      "Epoch 4000, Cost: 0.03406617489342207\n",
      "Epoch 4100, Cost: 0.033465770851212204\n",
      "Epoch 4200, Cost: 0.03289052585688562\n",
      "Epoch 4300, Cost: 0.03233889944785876\n",
      "Epoch 4400, Cost: 0.03180946826797873\n",
      "Epoch 4500, Cost: 0.03130091595176031\n",
      "Epoch 4600, Cost: 0.030812023947719293\n",
      "Epoch 4700, Cost: 0.030341663192675714\n",
      "Epoch 4800, Cost: 0.029888786556111904\n",
      "Epoch 4900, Cost: 0.029452421980739028\n",
      "Epoch 5000, Cost: 0.02903166625217405\n",
      "Epoch 5100, Cost: 0.0286256793369531\n",
      "Epoch 5200, Cost: 0.028233679233960536\n",
      "Epoch 5300, Cost: 0.027854937289722426\n",
      "Epoch 5400, Cost: 0.027488773932905157\n",
      "Epoch 5500, Cost: 0.027134554787797645\n",
      "Epoch 5600, Cost: 0.02679168713056588\n",
      "Epoch 5700, Cost: 0.026459616655684394\n",
      "Epoch 5800, Cost: 0.026137824523203394\n",
      "Epoch 5900, Cost: 0.025825824660435096\n",
      "Epoch 6000, Cost: 0.025523161294269566\n",
      "Epoch 6100, Cost: 0.02522940669268889\n",
      "Epoch 6200, Cost: 0.024944159096163963\n",
      "Epoch 6300, Cost: 0.024667040821517657\n",
      "Epoch 6400, Cost: 0.024397696522542082\n",
      "Epoch 6500, Cost: 0.024135791593187253\n",
      "Epoch 6600, Cost: 0.023881010700512153\n",
      "Epoch 6700, Cost: 0.023633056435822412\n",
      "Epoch 6800, Cost: 0.023391648073527817\n",
      "Epoch 6900, Cost: 0.023156520428248572\n",
      "Epoch 7000, Cost: 0.022927422801596205\n",
      "Epoch 7100, Cost: 0.022704118010860957\n",
      "Epoch 7200, Cost: 0.022486381492563674\n",
      "Epoch 7300, Cost: 0.02227400047448454\n",
      "Epoch 7400, Cost: 0.02206677321037022\n",
      "Epoch 7500, Cost: 0.021864508272052906\n",
      "Epoch 7600, Cost: 0.021667023894194427\n",
      "Epoch 7700, Cost: 0.021474147367301792\n",
      "Epoch 7800, Cost: 0.021285714475052064\n",
      "Epoch 7900, Cost: 0.021101568972317915\n",
      "Epoch 8000, Cost: 0.020921562100605744\n",
      "Epoch 8100, Cost: 0.020745552137907422\n",
      "Epoch 8200, Cost: 0.020573403980229162\n",
      "Epoch 8300, Cost: 0.020404988752298982\n",
      "Epoch 8400, Cost: 0.020240183445169244\n",
      "Epoch 8500, Cost: 0.020078870578626895\n",
      "Epoch 8600, Cost: 0.01992093788650105\n",
      "Epoch 8700, Cost: 0.019766278023119106\n",
      "Epoch 8800, Cost: 0.019614788289309185\n",
      "Epoch 8900, Cost: 0.019466370376479872\n",
      "Epoch 9000, Cost: 0.01932093012742969\n",
      "Epoch 9100, Cost: 0.01917837731264924\n",
      "Epoch 9200, Cost: 0.019038625420979755\n",
      "Epoch 9300, Cost: 0.018901591463583348\n",
      "Epoch 9400, Cost: 0.018767195790264445\n",
      "Epoch 9500, Cost: 0.018635361917258002\n",
      "Epoch 9600, Cost: 0.018506016365670338\n",
      "Epoch 9700, Cost: 0.018379088509822006\n",
      "Epoch 9800, Cost: 0.01825451043480085\n",
      "Epoch 9900, Cost: 0.018132216802586677\n"
     ]
    }
   ],
   "source": [
    "# To store multiple models\n",
    "models = []\n",
    "\n",
    "# Testing with multiple epoch counts to evaluate the best epoch count\n",
    "epochs=[10, 100, 1000, 5000, 10000]\n",
    "\n",
    "# Iterating for every epoch count, and initializing a model for each\n",
    "for epoch in epochs:\n",
    "    # Model initialization\n",
    "    model = NeuralNet(X_train, y_train, layer_sizes=[30, 100, 10, 1], alpha=0.01)\n",
    "    \n",
    "    # Train the model with epoch count\n",
    "    model.train(epochs=epoch)\n",
    "    models.append(model)\n",
    "\n",
    "# Predict values for every epoch\n",
    "y_pred_array = [model.predict(X_test) for model in models]"
   ]
  },
  {
   "cell_type": "markdown",
   "metadata": {},
   "source": [
    "# Results and Metrics\n",
    "\n",
    "Metrics for every epoch were calculated and combined the flattened version of y_test and y_pred to view random samples."
   ]
  },
  {
   "cell_type": "code",
   "execution_count": 93,
   "metadata": {},
   "outputs": [
    {
     "name": "stdout",
     "output_type": "stream",
     "text": [
      "Test Accuracy: 58.04195804195804%\n",
      "Test results: \n",
      "     Actuals  Predictions\n",
      "40         0          0.0\n",
      "109        0          0.0\n",
      "113        0          0.0\n",
      "126        0          0.0\n",
      "95         1          0.0\n",
      "42         0          0.0\n",
      "135        1          0.0\n",
      "79         1          0.0\n"
     ]
    }
   ],
   "source": [
    "# Metrics and results comparison for 10 epochs\n",
    "\n",
    "accuracy_10 = model.accuracy(y_pred_array[0], y_test)\n",
    "\n",
    "results_10_epochs = pd.DataFrame(\n",
    "    {\"Actuals\": y_test.flatten(), \"Predictions\": np.round(y_pred_array[0].flatten())}\n",
    ")\n",
    "\n",
    "print(f\"Test Accuracy: {accuracy_10}%\")\n",
    "print(f\"Test results: \\n{results_10_epochs.sample(8)}\")"
   ]
  },
  {
   "cell_type": "code",
   "execution_count": 94,
   "metadata": {},
   "outputs": [
    {
     "name": "stdout",
     "output_type": "stream",
     "text": [
      "Test Accuracy: 58.04195804195804%\n",
      "Test results: \n",
      "     Actuals  Predictions\n",
      "129        1          0.0\n",
      "72         0          0.0\n",
      "140        1          0.0\n",
      "8          0          0.0\n",
      "5          0          0.0\n",
      "39         0          0.0\n",
      "18         0          0.0\n",
      "91         1          0.0\n"
     ]
    }
   ],
   "source": [
    "# Metrics and results comparison for 100 epochs\n",
    "\n",
    "accuracy_100 = model.accuracy(y_pred_array[1], y_test)\n",
    "\n",
    "results_100_epochs = pd.DataFrame(\n",
    "    {\"Actuals\": y_test.flatten(), \"Predictions\": np.round(y_pred_array[1].flatten())}\n",
    ")\n",
    "\n",
    "print(f\"Test Accuracy: {accuracy_100}%\")\n",
    "print(f\"Test results: \\n{results_100_epochs.sample(8)}\")"
   ]
  },
  {
   "cell_type": "code",
   "execution_count": 95,
   "metadata": {},
   "outputs": [
    {
     "name": "stdout",
     "output_type": "stream",
     "text": [
      "Test Accuracy: 82.51748251748252%\n",
      "Test results: \n",
      "     Actuals  Predictions\n",
      "7          0          0.0\n",
      "32         1          1.0\n",
      "69         0          0.0\n",
      "84         1          1.0\n",
      "118        1          0.0\n",
      "65         0          0.0\n",
      "134        0          0.0\n",
      "29         0          0.0\n"
     ]
    }
   ],
   "source": [
    "# Metrics and results comparison for 1000 epochs\n",
    "\n",
    "accuracy_1000 = model.accuracy(y_pred_array[2], y_test)\n",
    "\n",
    "results_1000_epochs = pd.DataFrame(\n",
    "    {\"Actuals\": y_test.flatten(), \"Predictions\": np.round(y_pred_array[2].flatten())}\n",
    ")\n",
    "\n",
    "print(f\"Test Accuracy: {accuracy_1000}%\")\n",
    "print(f\"Test results: \\n{results_1000_epochs.sample(8)}\")"
   ]
  },
  {
   "cell_type": "code",
   "execution_count": 96,
   "metadata": {},
   "outputs": [
    {
     "name": "stdout",
     "output_type": "stream",
     "text": [
      "Test Accuracy: 94.4055944055944%\n",
      "Test results: \n",
      "     Actuals  Predictions\n",
      "136        0          0.0\n",
      "55         0          0.0\n",
      "10         0          0.0\n",
      "76         1          0.0\n",
      "110        0          0.0\n",
      "14         1          1.0\n",
      "82         0          0.0\n",
      "132        0          0.0\n"
     ]
    }
   ],
   "source": [
    "# Metrics and results comparison for 5000 epochs\n",
    "\n",
    "accuracy_5000 = model.accuracy(y_pred_array[3], y_test)\n",
    "\n",
    "results_5000_epochs = pd.DataFrame(\n",
    "    {\"Actuals\": y_test.flatten(), \"Predictions\": np.round(y_pred_array[3].flatten())}\n",
    ")\n",
    "\n",
    "print(f\"Test Accuracy: {accuracy_5000}%\")\n",
    "print(f\"Test results: \\n{results_5000_epochs.sample(8)}\")"
   ]
  },
  {
   "cell_type": "code",
   "execution_count": 97,
   "metadata": {},
   "outputs": [
    {
     "name": "stdout",
     "output_type": "stream",
     "text": [
      "Test Accuracy: 96.5034965034965%\n",
      "Test results: \n",
      "    Actuals  Predictions\n",
      "40        0          0.0\n",
      "23        1          1.0\n",
      "64        0          0.0\n",
      "71        1          1.0\n",
      "82        0          0.0\n",
      "79        1          1.0\n",
      "84        1          1.0\n",
      "7         0          0.0\n"
     ]
    }
   ],
   "source": [
    "# Metrics and results comparison for 10000 epochs\n",
    "\n",
    "accuracy_10000 = model.accuracy(y_pred_array[4], y_test)\n",
    "\n",
    "results_10000_epochs = pd.DataFrame(\n",
    "    {\"Actuals\": y_test.flatten(), \"Predictions\": np.round(y_pred_array[4].flatten())}\n",
    ")\n",
    "\n",
    "print(f\"Test Accuracy: {accuracy_10000}%\")\n",
    "print(f\"Test results: \\n{results_10000_epochs.sample(8)}\")"
   ]
  },
  {
   "cell_type": "markdown",
   "metadata": {},
   "source": [
    "# Graph\n",
    "\n",
    "A visual representation of how well the accuracy increases with the increase in number of epochs"
   ]
  },
  {
   "cell_type": "code",
   "execution_count": 112,
   "metadata": {},
   "outputs": [
    {
     "data": {
      "image/png": "[encoded data removed]",
      "text/plain": [
       "<Figure size 640x480 with 1 Axes>"
      ]
     },
     "metadata": {},
     "output_type": "display_data"
    }
   ],
   "source": [
    "accuracy_combined = [accuracy_10, accuracy_100, accuracy_1000, accuracy_5000, accuracy_10000]\n",
    "\n",
    "sns.barplot(x=epochs, y=accuracy_combined)\n",
    "plt.show()"
   ]
  },
  {
   "cell_type": "markdown",
   "metadata": {},
   "source": [
    "# Conclusion\n",
    "\n",
    "As seen in the above graph, after training the model with multiple epoch counts, the accuracy increases as the epoch count increased and the jump was visibly higher between 10, 100 and 1000. The increase in accuracy between 1000, 5000 and 10000 is not that high but still significant."
   ]
  },
  {
   "cell_type": "markdown",
   "metadata": {},
   "source": [
    "# Future Work\n",
    "\n",
    "The model is hard-coded and also very static as of right now. It could be made more dynamic by adding logic for adding different layers in Keras style (Ex:model.add(InputLayer())). Improvements to include different loss functions, activation functions, optimizers can also be made. The model could also be moreobject oriented by defining a base Layer class which has children InputLayer, HiddenLayer or Dense, OutputLayer etc. Neuron class with seperate weights andbias could also be implemented.\n",
    "\n",
    "Additonally, differnt model callbacks like ModelCheckpoint to save the model's weights and bias, EarlyStopping to stop the model early if the training or validationloss is not improving, ReduceLearningRateOnPlateau to decrease learning rate if no improvement in loss etc. could also be implemented."
   ]
  },
  {
   "cell_type": "markdown",
   "metadata": {},
   "source": [
    "# References and Acknowledgements\n",
    "\n",
    "1. https://medium.com/@waadlingaadil/learn-to-build-a-neural-network-from-scratch-yes-really-cac4ca457efc - Thanks to this article, I learned 90% of what ANNs actually do.\n",
    "2. https://medium.com/analytics-vidhya/creating-keras-from-scratch-part-1-50599413ebc7\n",
    "3. https://www.parasdahal.com/softmax-crossentropy\n",
    "4. https://youtube.com/playlist?list=PLZHQObOWTQDNU6R1_67000Dx_ZCJB-3pi&si=tMVHHor1fqCwSSF7 - A must watch for learning Neural Networks\n",
    "5. https://youtube.com/playlist?list=PLblh5JKOoLUIxGDQs4LFFD--41Vzf-ME1&si=7GLSl2fbrpdAynCE - Another golden playlist to understand the concepts of Neural Networks\n",
    "\n",
    "Finally, my sincere thanks to Dr. Huajie Zhang for providing such a wonderful assignment. I learned many things in the process learning and implementing a neural network."
   ]
  }
 ],
 "metadata": {
  "kernelspec": {
   "display_name": "env",
   "language": "python",
   "name": "python3"
  },
  "language_info": {
   "codemirror_mode": {
    "name": "ipython",
    "version": 3
   },
   "file_extension": ".py",
   "mimetype": "text/x-python",
   "name": "python",
   "nbconvert_exporter": "python",
   "pygments_lexer": "ipython3",
   "version": "3.12.0"
  }
 },
 "nbformat": 4,
 "nbformat_minor": 2
}
